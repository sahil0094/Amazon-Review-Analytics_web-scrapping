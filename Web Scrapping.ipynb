{
 "cells": [
  {
   "cell_type": "code",
   "execution_count": 2,
   "metadata": {},
   "outputs": [],
   "source": [
    "import requests"
   ]
  },
  {
   "cell_type": "code",
   "execution_count": 4,
   "metadata": {},
   "outputs": [],
   "source": [
    "response=requests.get('https://www.google.com/')"
   ]
  },
  {
   "cell_type": "code",
   "execution_count": 5,
   "metadata": {},
   "outputs": [
    {
     "data": {
      "text/plain": [
       "b'<!doctype html><html itemscope=\"\" itemtype=\"http://schema.org/WebPage\" lang=\"en-IN\"><head><meta content=\"text/html; charset=UTF-8\" http-equiv=\"Content-Type\"><meta content=\"/images/branding/googleg/1x/'"
      ]
     },
     "execution_count": 5,
     "metadata": {},
     "output_type": "execute_result"
    }
   ],
   "source": [
    "response.content[:200]"
   ]
  },
  {
   "cell_type": "code",
   "execution_count": 6,
   "metadata": {},
   "outputs": [
    {
     "data": {
      "text/plain": [
       "63"
      ]
     },
     "execution_count": 6,
     "metadata": {},
     "output_type": "execute_result"
    }
   ],
   "source": [
    "import sys\n",
    "sys.getsizeof('hello you guys')\n",
    "# size in bytes\n",
    "#all response is returned in bytes"
   ]
  },
  {
   "cell_type": "code",
   "execution_count": 7,
   "metadata": {},
   "outputs": [
    {
     "data": {
      "text/plain": [
       "47"
      ]
     },
     "execution_count": 7,
     "metadata": {},
     "output_type": "execute_result"
    }
   ],
   "source": [
    "sys.getsizeof(b'hello you guys')"
   ]
  },
  {
   "cell_type": "markdown",
   "metadata": {},
   "source": [
    "## HTTP Headers"
   ]
  },
  {
   "cell_type": "code",
   "execution_count": 8,
   "metadata": {},
   "outputs": [
    {
     "data": {
      "text/plain": [
       "{'Date': 'Fri, 03 Jan 2020 01:44:39 GMT', 'Expires': '-1', 'Cache-Control': 'private, max-age=0', 'Content-Type': 'text/html; charset=ISO-8859-1', 'P3P': 'CP=\"This is not a P3P policy! See g.co/p3phelp for more info.\"', 'Content-Encoding': 'gzip', 'Server': 'gws', 'X-XSS-Protection': '0', 'X-Frame-Options': 'SAMEORIGIN', 'Set-Cookie': '1P_JAR=2020-01-03-01; expires=Sun, 02-Feb-2020 01:44:39 GMT; path=/; domain=.google.com, NID=195=HZN0SXGx68uue6agLlf56rmuZyMb3Bmzfd5TE9mWfaGWKBrDBxJvUAd6UGt2AaaSFeEsXdz3lAHD1MtQIQ5ibt59E2k4T_C-TSes0Px6lgV5qlgJmSGiljR4RKlZ2rrKVeri3y94pgT9vluc6w66zDSgirfh-wb_KEnLrk6p8Jw; expires=Sat, 04-Jul-2020 01:44:39 GMT; path=/; domain=.google.com; HttpOnly', 'Alt-Svc': 'quic=\":443\"; ma=2592000; v=\"46,43\",h3-Q050=\":443\"; ma=2592000,h3-Q049=\":443\"; ma=2592000,h3-Q048=\":443\"; ma=2592000,h3-Q046=\":443\"; ma=2592000,h3-Q043=\":443\"; ma=2592000', 'Transfer-Encoding': 'chunked'}"
      ]
     },
     "execution_count": 8,
     "metadata": {},
     "output_type": "execute_result"
    }
   ],
   "source": [
    "response.headers"
   ]
  },
  {
   "cell_type": "code",
   "execution_count": 12,
   "metadata": {},
   "outputs": [
    {
     "name": "stdout",
     "output_type": "stream",
     "text": [
      "Date             :  Fri, 03 Jan 2020 01:44:39 GMT\n",
      "Expires          :  -1\n",
      "Cache-Control    :  private, max-age=0\n",
      "Content-Type     :  text/html; charset=ISO-8859-1\n",
      "P3P              :  CP=\"This is not a P3P policy! See g.co/p3phelp for more info.\"\n",
      "Content-Encoding :  gzip\n",
      "Server           :  gws\n",
      "X-XSS-Protection :  0\n",
      "X-Frame-Options  :  SAMEORIGIN\n",
      "Set-Cookie       :  1P_JAR=2020-01-03-01; expires=Sun, 02-Feb-2020 01:44:39 GMT; path=/; domain=.google.com, NID=195=HZN0SXGx68uue6agLlf56rmuZyMb3Bmzfd5TE9mWfaGWKBrDBxJvUAd6UGt2AaaSFeEsXdz3lAHD1MtQIQ5ibt59E2k4T_C-TSes0Px6lgV5qlgJmSGiljR4RKlZ2rrKVeri3y94pgT9vluc6w66zDSgirfh-wb_KEnLrk6p8Jw; expires=Sat, 04-Jul-2020 01:44:39 GMT; path=/; domain=.google.com; HttpOnly\n",
      "Alt-Svc          :  quic=\":443\"; ma=2592000; v=\"46,43\",h3-Q050=\":443\"; ma=2592000,h3-Q049=\":443\"; ma=2592000,h3-Q048=\":443\"; ma=2592000,h3-Q046=\":443\"; ma=2592000,h3-Q043=\":443\"; ma=2592000\n",
      "Transfer-Encoding:  chunked\n"
     ]
    }
   ],
   "source": [
    "for key,value in response.headers.items():\n",
    "    print(f'{key:{17}}:  {value}')"
   ]
  },
  {
   "cell_type": "code",
   "execution_count": 14,
   "metadata": {},
   "outputs": [],
   "source": [
    "response.close()\n",
    "#v important"
   ]
  },
  {
   "cell_type": "code",
   "execution_count": 15,
   "metadata": {},
   "outputs": [
    {
     "name": "stdout",
     "output_type": "stream",
     "text": [
      "Collecting fake_useragent\n",
      "  Downloading https://files.pythonhosted.org/packages/d1/79/af647635d6968e2deb57a208d309f6069d31cb138066d7e821e575112a80/fake-useragent-0.1.11.tar.gz\n",
      "Building wheels for collected packages: fake-useragent\n",
      "  Building wheel for fake-useragent (setup.py): started\n",
      "  Building wheel for fake-useragent (setup.py): finished with status 'done'\n",
      "  Stored in directory: C:\\Users\\admin\\AppData\\Local\\pip\\Cache\\wheels\\5e\\63\\09\\d1dc15179f175357d3f5c00cbffbac37f9e8690d80545143ff\n",
      "Successfully built fake-useragent\n",
      "Installing collected packages: fake-useragent\n",
      "Successfully installed fake-useragent-0.1.11\n"
     ]
    }
   ],
   "source": [
    "!pip install fake_useragent\n"
   ]
  },
  {
   "cell_type": "code",
   "execution_count": 16,
   "metadata": {},
   "outputs": [],
   "source": [
    "from fake_useragent import UserAgent"
   ]
  },
  {
   "cell_type": "code",
   "execution_count": 17,
   "metadata": {},
   "outputs": [
    {
     "name": "stderr",
     "output_type": "stream",
     "text": [
      "Error occurred during loading data. Trying to use cache server https://fake-useragent.herokuapp.com/browsers/0.1.11\n",
      "Traceback (most recent call last):\n",
      "  File \"D:\\Anaconda\\lib\\site-packages\\fake_useragent\\utils.py\", line 67, in get\n",
      "    context=context,\n",
      "  File \"D:\\Anaconda\\lib\\urllib\\request.py\", line 222, in urlopen\n",
      "    return opener.open(url, data, timeout)\n",
      "  File \"D:\\Anaconda\\lib\\urllib\\request.py\", line 525, in open\n",
      "    response = self._open(req, data)\n",
      "  File \"D:\\Anaconda\\lib\\urllib\\request.py\", line 543, in _open\n",
      "    '_open', req)\n",
      "  File \"D:\\Anaconda\\lib\\urllib\\request.py\", line 503, in _call_chain\n",
      "    result = func(*args)\n",
      "  File \"D:\\Anaconda\\lib\\urllib\\request.py\", line 1345, in http_open\n",
      "    return self.do_open(http.client.HTTPConnection, req)\n",
      "  File \"D:\\Anaconda\\lib\\urllib\\request.py\", line 1320, in do_open\n",
      "    r = h.getresponse()\n",
      "  File \"D:\\Anaconda\\lib\\http\\client.py\", line 1321, in getresponse\n",
      "    response.begin()\n",
      "  File \"D:\\Anaconda\\lib\\http\\client.py\", line 296, in begin\n",
      "    version, status, reason = self._read_status()\n",
      "  File \"D:\\Anaconda\\lib\\http\\client.py\", line 257, in _read_status\n",
      "    line = str(self.fp.readline(_MAXLINE + 1), \"iso-8859-1\")\n",
      "  File \"D:\\Anaconda\\lib\\socket.py\", line 589, in readinto\n",
      "    return self._sock.recv_into(b)\n",
      "socket.timeout: timed out\n",
      "\n",
      "During handling of the above exception, another exception occurred:\n",
      "\n",
      "Traceback (most recent call last):\n",
      "  File \"D:\\Anaconda\\lib\\site-packages\\fake_useragent\\utils.py\", line 166, in load\n",
      "    verify_ssl=verify_ssl,\n",
      "  File \"D:\\Anaconda\\lib\\site-packages\\fake_useragent\\utils.py\", line 122, in get_browser_versions\n",
      "    verify_ssl=verify_ssl,\n",
      "  File \"D:\\Anaconda\\lib\\site-packages\\fake_useragent\\utils.py\", line 84, in get\n",
      "    raise FakeUserAgentError('Maximum amount of retries reached')\n",
      "fake_useragent.errors.FakeUserAgentError: Maximum amount of retries reached\n"
     ]
    }
   ],
   "source": [
    "user_agent=UserAgent()"
   ]
  },
  {
   "cell_type": "code",
   "execution_count": 19,
   "metadata": {},
   "outputs": [],
   "source": [
    "page=requests.get('http://google.com/',headers={'user-agent':user_agent.chrome})"
   ]
  },
  {
   "cell_type": "code",
   "execution_count": 20,
   "metadata": {},
   "outputs": [
    {
     "data": {
      "text/plain": [
       "200"
      ]
     },
     "execution_count": 20,
     "metadata": {},
     "output_type": "execute_result"
    }
   ],
   "source": [
    "page.status_code"
   ]
  },
  {
   "cell_type": "code",
   "execution_count": 21,
   "metadata": {},
   "outputs": [],
   "source": [
    "page.close()"
   ]
  },
  {
   "cell_type": "markdown",
   "metadata": {},
   "source": [
    "## Intro to beautiful soup"
   ]
  },
  {
   "cell_type": "code",
   "execution_count": 22,
   "metadata": {},
   "outputs": [
    {
     "name": "stdout",
     "output_type": "stream",
     "text": [
      "Writing example.html\n"
     ]
    }
   ],
   "source": [
    "%%writefile example.html\n",
    "<!DOCTYPE html>\n",
    "<html lang=\"en\">\n",
    "    <head>\n",
    "        <meta charset=\"UTF-8\">\n",
    "        <title>NLP 100 Hours Batch II</title>\n",
    "    </head>\n",
    "    <body>\n",
    "        <div>\n",
    "            <p>In the first Division Tag</p>\n",
    "        </div>\n",
    "        <div>\n",
    "            <p>In the Second Division Tag</p>\n",
    "        </div>\n",
    "    </body>\n",
    "</html>"
   ]
  },
  {
   "cell_type": "code",
   "execution_count": 33,
   "metadata": {},
   "outputs": [],
   "source": [
    "with open('example.html', 'r') as f:\n",
    "    text= f.read()"
   ]
  },
  {
   "cell_type": "code",
   "execution_count": 28,
   "metadata": {},
   "outputs": [],
   "source": [
    "text=myfile.read()"
   ]
  },
  {
   "cell_type": "code",
   "execution_count": 27,
   "metadata": {},
   "outputs": [],
   "source": [
    "from bs4 import BeautifulSoup"
   ]
  },
  {
   "cell_type": "code",
   "execution_count": 35,
   "metadata": {},
   "outputs": [],
   "source": [
    "soup=BeautifulSoup(text)"
   ]
  },
  {
   "cell_type": "code",
   "execution_count": 37,
   "metadata": {},
   "outputs": [
    {
     "name": "stdout",
     "output_type": "stream",
     "text": [
      "<!DOCTYPE html>\n",
      "<html lang=\"en\">\n",
      " <head>\n",
      "  <meta charset=\"utf-8\"/>\n",
      "  <title>\n",
      "   NLP 100 Hours Batch II\n",
      "  </title>\n",
      " </head>\n",
      " <body>\n",
      "  <div>\n",
      "   <p>\n",
      "    In the first Division Tag\n",
      "   </p>\n",
      "  </div>\n",
      "  <div>\n",
      "   <p>\n",
      "    In the Second Division Tag\n",
      "   </p>\n",
      "  </div>\n",
      " </body>\n",
      "</html>\n",
      "\n"
     ]
    }
   ],
   "source": [
    "print(soup.prettify())#to see html content in tree structure"
   ]
  },
  {
   "cell_type": "code",
   "execution_count": 38,
   "metadata": {},
   "outputs": [],
   "source": [
    "f.close()"
   ]
  },
  {
   "cell_type": "code",
   "execution_count": 39,
   "metadata": {},
   "outputs": [],
   "source": [
    "user_agent=UserAgent()"
   ]
  },
  {
   "cell_type": "code",
   "execution_count": 40,
   "metadata": {},
   "outputs": [],
   "source": [
    "link='https://www.amazon.in/Apple-iPhone-Pro-Max-256GB/product-reviews/B07XVMDRZW/ref=cm_cr_dp_d_show_all_btm?ie=UTF8&reviewerType=all_reviews'"
   ]
  },
  {
   "cell_type": "code",
   "execution_count": 41,
   "metadata": {},
   "outputs": [],
   "source": [
    "page=requests.get(link,headers={'user-agent':user_agent.chrome})"
   ]
  },
  {
   "cell_type": "code",
   "execution_count": 43,
   "metadata": {},
   "outputs": [
    {
     "data": {
      "text/plain": [
       "200"
      ]
     },
     "execution_count": 43,
     "metadata": {},
     "output_type": "execute_result"
    }
   ],
   "source": [
    "page.status_code"
   ]
  },
  {
   "cell_type": "code",
   "execution_count": 44,
   "metadata": {},
   "outputs": [],
   "source": [
    "soup=BeautifulSoup(page.content)"
   ]
  },
  {
   "cell_type": "code",
   "execution_count": 46,
   "metadata": {},
   "outputs": [],
   "source": [
    "b=soup.find_all('span',{'data-hook':'review-body'})"
   ]
  },
  {
   "cell_type": "code",
   "execution_count": 50,
   "metadata": {},
   "outputs": [
    {
     "name": "stdout",
     "output_type": "stream",
     "text": [
      "The triple cameras on the iPhone 11 Pro Max now give Apple the best camera phone, thanks to its great Night mode and improved Smart HDR,a huge improvement in battery life Up to 20 hours video playback; up to 12 hours video streaming ... Apple's slow-motion selfies are fun at 120 fps.Apple has given the Pro moniker to the iPhones for the first time. Everything is improved and everything feels better.It comes with a new Lightning to USB Cable with 5W USB Power Adapter.With Display of 6.5-inch Super Retina XDR display with HDR,True Tone, Splash, Water, and Dust Resistant, Water-resistant to a depth of 4 meters for up to 30 minutes (IP68)), Triple 12MP cameras (Ultra Wide, Wide, Telephoto) with Portrait mode, Night mode, Auto Adjustments, next-generation Smart HDR and 4K video up to 60 fps with extended dynamic range.\n",
      "---\n",
      "I pre ordered the item on sept 21 and received ok 2 Oct . It was in iOS 13 . It is buttery smooth and nice and there was an update of ios13.1.2 available. But after updating I stuck in Apple logo. I could not create a return in Amazon as it's asked me to contact Apple. I wonder why is that.\n",
      "---\n",
      "Decent packaging and shipping 👍 Upgraded from an iPhone X and I reckon its definitely worth it 😊 Size matters, no pun intended, and you can instantly feel the difference b/w a 5.7 inch screen and a 6.5 inch 🤓 If you have an iPhone X or earlier model, you should definitely consider upgrading. For iPhone XS Max, you are better off waiting for next year model as its touted to undergo some radical changes (5G, USB-C, Touch ID comeback and notch less design perhaps). No 5G in this model but doesn't make a difference, at least in India, as even the 5G spectrum has not been auctioned yet 😝  WiFi performance is better than iPhone X as this model supports 11ax protocol 🤗 And by the way, if you are stuck for choice b/w Gold and Midnight Green, go for Gold and thank me later ✨\n",
      "---\n",
      " 11 Pro Max 256 GB phone hanged last 12 hours continues\n",
      "---\n",
      "I will rate one start for this product. My experience of using this phone for one week is sub-par, multiple times in this one week this phone hanged. Many time even home screen was hanged( i have installed only five additional apps quora, amazon, facebook, whatsapp and google maps). Please refrain from purchasing this phone. It is waste of money.\n",
      "---\n",
      "In love with it\n",
      "---\n",
      "Moving Android to IOS Very Difficult Btw Good phone but not value for money\n",
      "---\n",
      "Osm product\n",
      "---\n",
      "I was using iPhone XS Max, but now after having iPhone 11 Pro Max - I can say it is fabulous and outstanding. Perfect as always, performance is too good.Night mode is better than any available camera, Pixel 4 XL, Mate 30 Pro and Note 10+.This device is unbeatable (until next iPhone).\n",
      "---\n",
      "The iPhone 11 Pro Max is a superb smartphone that caters to most basic needs of any individual. For starters, the phone has a mind boggling 1.5 days of battery under normal usage and you'll still go beyond a day with extremely heavy usage too, the phone just isn't ready to give up. The iPhone 11 Pro Max supposedly also has a tremendous camera though I cannot vouch for the same since I rarely use my phone's camera. But the best part about this smartphone is its performance, it runs at supersonic speed, no waiting Time ever required for anything. The only chinks in the armour surface from a lacklustre iOS 13 release, which although has some great features, is currently under a lot of stress and duress with some major bugs creeping into the software, the most important being the non-working of the ever so ubiquitous Reminders app. But that is only a passing phase as the rollout of major releases with bug fixes should fix most problems in the coming few days, in the coming few weeks and in the coming few months. But in any case, that simply does not take anything away from iPhone 11 Pro Max, its a wonderful smartphone that should suffice the needs of most new users as well as those of most brand loyalists alike. Apple has finally delivered an uber cool device after a few sombre years where the company's growth seemed to had hit a plateau. The iPhone 11 Pro Max, even though not being too innovative, is arguably the best premium smartphone in the market available by far for almost everything that a smartphone should be and the phone should give Apple a sizeable lead over its main competitors, Samsung and OnePlus, now that Huawei has hit a roadblock. But in all, you cannot go wrong with the iPhone 11 Pro Max, so you shouldn't think twice while buying this smartphone, it is indeed a very fruitful investment!!\n",
      "---\n"
     ]
    }
   ],
   "source": [
    "for i in b:\n",
    "    print(i.find('span').text)\n",
    "    print('---')\n",
    "    "
   ]
  },
  {
   "cell_type": "code",
   "execution_count": 51,
   "metadata": {},
   "outputs": [],
   "source": [
    "reviews1=[i.find('span').text for i in b]"
   ]
  },
  {
   "cell_type": "code",
   "execution_count": 52,
   "metadata": {},
   "outputs": [
    {
     "data": {
      "text/plain": [
       "\"The triple cameras on the iPhone 11 Pro Max now give Apple the best camera phone, thanks to its great Night mode and improved Smart HDR,a huge improvement in battery life Up to 20 hours video playback; up to 12 hours video streaming ... Apple's slow-motion selfies are fun at 120 fps.Apple has given the Pro moniker to the iPhones for the first time. Everything is improved and everything feels better.It comes with a new Lightning to USB Cable with 5W USB Power Adapter.With Display of 6.5-inch Super Retina XDR display with HDR,True Tone, Splash, Water, and Dust Resistant, Water-resistant to a depth of 4 meters for up to 30 minutes (IP68)), Triple 12MP cameras (Ultra Wide, Wide, Telephoto) with Portrait mode, Night mode, Auto Adjustments, next-generation Smart HDR and 4K video up to 60 fps with extended dynamic range.\""
      ]
     },
     "execution_count": 52,
     "metadata": {},
     "output_type": "execute_result"
    }
   ],
   "source": [
    "reviews1[0]"
   ]
  },
  {
   "cell_type": "code",
   "execution_count": 53,
   "metadata": {},
   "outputs": [
    {
     "data": {
      "text/plain": [
       "[<i class=\"a-icon a-icon-star a-star-5 review-rating\" data-hook=\"review-star-rating\"><span class=\"a-icon-alt\">5.0 out of 5 stars</span></i>,\n",
       " <i class=\"a-icon a-icon-star a-star-3 review-rating\" data-hook=\"review-star-rating\"><span class=\"a-icon-alt\">3.0 out of 5 stars</span></i>,\n",
       " <i class=\"a-icon a-icon-star a-star-5 review-rating\" data-hook=\"review-star-rating\"><span class=\"a-icon-alt\">5.0 out of 5 stars</span></i>,\n",
       " <i class=\"a-icon a-icon-star a-star-1 review-rating\" data-hook=\"review-star-rating\"><span class=\"a-icon-alt\">1.0 out of 5 stars</span></i>,\n",
       " <i class=\"a-icon a-icon-star a-star-1 review-rating\" data-hook=\"review-star-rating\"><span class=\"a-icon-alt\">1.0 out of 5 stars</span></i>,\n",
       " <i class=\"a-icon a-icon-star a-star-5 review-rating\" data-hook=\"review-star-rating\"><span class=\"a-icon-alt\">5.0 out of 5 stars</span></i>,\n",
       " <i class=\"a-icon a-icon-star a-star-3 review-rating\" data-hook=\"review-star-rating\"><span class=\"a-icon-alt\">3.0 out of 5 stars</span></i>,\n",
       " <i class=\"a-icon a-icon-star a-star-5 review-rating\" data-hook=\"review-star-rating\"><span class=\"a-icon-alt\">5.0 out of 5 stars</span></i>,\n",
       " <i class=\"a-icon a-icon-star a-star-5 review-rating\" data-hook=\"review-star-rating\"><span class=\"a-icon-alt\">5.0 out of 5 stars</span></i>,\n",
       " <i class=\"a-icon a-icon-star a-star-5 review-rating\" data-hook=\"review-star-rating\"><span class=\"a-icon-alt\">5.0 out of 5 stars</span></i>]"
      ]
     },
     "execution_count": 53,
     "metadata": {},
     "output_type": "execute_result"
    }
   ],
   "source": [
    "soup.findAll('i', {'data-hook' : \"review-star-rating\"})"
   ]
  },
  {
   "cell_type": "code",
   "execution_count": 54,
   "metadata": {},
   "outputs": [
    {
     "data": {
      "text/plain": [
       "['5.0 out of 5 stars',\n",
       " '3.0 out of 5 stars',\n",
       " '5.0 out of 5 stars',\n",
       " '1.0 out of 5 stars',\n",
       " '1.0 out of 5 stars',\n",
       " '5.0 out of 5 stars',\n",
       " '3.0 out of 5 stars',\n",
       " '5.0 out of 5 stars',\n",
       " '5.0 out of 5 stars',\n",
       " '5.0 out of 5 stars']"
      ]
     },
     "execution_count": 54,
     "metadata": {},
     "output_type": "execute_result"
    }
   ],
   "source": [
    "rat= soup.findAll('i', {'data-hook' : \"review-star-rating\"})\n",
    "[r.find('span').text for r in rat]"
   ]
  },
  {
   "cell_type": "code",
   "execution_count": 55,
   "metadata": {},
   "outputs": [],
   "source": [
    "ratings= [r.find('span').text for r in rat]"
   ]
  },
  {
   "cell_type": "code",
   "execution_count": 56,
   "metadata": {},
   "outputs": [
    {
     "data": {
      "text/plain": [
       "[['5.0', ''],\n",
       " ['3.0', ''],\n",
       " ['5.0', ''],\n",
       " ['1.0', ''],\n",
       " ['1.0', ''],\n",
       " ['5.0', ''],\n",
       " ['3.0', ''],\n",
       " ['5.0', ''],\n",
       " ['5.0', ''],\n",
       " ['5.0', '']]"
      ]
     },
     "execution_count": 56,
     "metadata": {},
     "output_type": "execute_result"
    }
   ],
   "source": [
    "import re\n",
    "[re.findall('(.*)(?= out)', r) for r in ratings]"
   ]
  },
  {
   "cell_type": "code",
   "execution_count": 59,
   "metadata": {},
   "outputs": [
    {
     "data": {
      "text/plain": [
       "['5.0', '3.0', '5.0', '1.0', '1.0', '5.0', '3.0', '5.0', '5.0', '5.0']"
      ]
     },
     "execution_count": 59,
     "metadata": {},
     "output_type": "execute_result"
    }
   ],
   "source": [
    "[re.findall('(.*)(?= out)', r)[0] for r in ratings]"
   ]
  },
  {
   "cell_type": "code",
   "execution_count": 60,
   "metadata": {},
   "outputs": [],
   "source": [
    "ratings= [float(re.findall('(.*)(?= out)', r)[0]) for r in ratings]"
   ]
  },
  {
   "cell_type": "code",
   "execution_count": 61,
   "metadata": {},
   "outputs": [],
   "source": [
    "from time import sleep"
   ]
  },
  {
   "cell_type": "code",
   "execution_count": 66,
   "metadata": {},
   "outputs": [],
   "source": [
    "reviews= []\n",
    "ratings= []\n",
    "for i in range(14):\n",
    "    link= f'https://www.amazon.in/Apple-iPhone-Pro-Max-256GB/product-reviews/B07XVMDRZW/ref=cm_cr_arp_d_paging_btm_next_2?ie=UTF8&reviewerType=all_reviews&pageNumber={i+1}'\n",
    "    page = requests.get(link ,headers={'user-agent':user_agent.chrome})\n",
    "    soup = BeautifulSoup(page.content)\n",
    "    page.close()\n",
    "    body = soup.findAll('span', {'data-hook' : \"review-body\"})\n",
    "    reviews.extend([b.find('span').text for b in body])\n",
    "    rat= soup.findAll('i', {'data-hook' : \"review-star-rating\"})\n",
    "    ratings.extend([float(re.findall('(.*)(?= out)', r.find('span').text)[0]) for r in rat])\n",
    "    sleep(10)"
   ]
  },
  {
   "cell_type": "code",
   "execution_count": 67,
   "metadata": {},
   "outputs": [
    {
     "data": {
      "text/plain": [
       "(95, 95)"
      ]
     },
     "execution_count": 67,
     "metadata": {},
     "output_type": "execute_result"
    }
   ],
   "source": [
    "len(reviews), len(ratings)"
   ]
  },
  {
   "cell_type": "code",
   "execution_count": 68,
   "metadata": {},
   "outputs": [],
   "source": [
    "import pandas as pd\n",
    "final_df= pd.DataFrame({'ratings': ratings, 'reviews' : reviews})"
   ]
  },
  {
   "cell_type": "code",
   "execution_count": 69,
   "metadata": {},
   "outputs": [
    {
     "data": {
      "text/html": [
       "<div>\n",
       "<style scoped>\n",
       "    .dataframe tbody tr th:only-of-type {\n",
       "        vertical-align: middle;\n",
       "    }\n",
       "\n",
       "    .dataframe tbody tr th {\n",
       "        vertical-align: top;\n",
       "    }\n",
       "\n",
       "    .dataframe thead th {\n",
       "        text-align: right;\n",
       "    }\n",
       "</style>\n",
       "<table border=\"1\" class=\"dataframe\">\n",
       "  <thead>\n",
       "    <tr style=\"text-align: right;\">\n",
       "      <th></th>\n",
       "      <th>ratings</th>\n",
       "      <th>reviews</th>\n",
       "    </tr>\n",
       "  </thead>\n",
       "  <tbody>\n",
       "    <tr>\n",
       "      <th>0</th>\n",
       "      <td>5.0</td>\n",
       "      <td>The triple cameras on the iPhone 11 Pro Max no...</td>\n",
       "    </tr>\n",
       "    <tr>\n",
       "      <th>1</th>\n",
       "      <td>3.0</td>\n",
       "      <td>I pre ordered the item on sept 21 and received...</td>\n",
       "    </tr>\n",
       "    <tr>\n",
       "      <th>2</th>\n",
       "      <td>5.0</td>\n",
       "      <td>Decent packaging and shipping 👍 Upgraded from ...</td>\n",
       "    </tr>\n",
       "    <tr>\n",
       "      <th>3</th>\n",
       "      <td>1.0</td>\n",
       "      <td>11 Pro Max 256 GB phone hanged last 12 hours ...</td>\n",
       "    </tr>\n",
       "    <tr>\n",
       "      <th>4</th>\n",
       "      <td>1.0</td>\n",
       "      <td>I will rate one start for this product. My exp...</td>\n",
       "    </tr>\n",
       "  </tbody>\n",
       "</table>\n",
       "</div>"
      ],
      "text/plain": [
       "   ratings                                            reviews\n",
       "0      5.0  The triple cameras on the iPhone 11 Pro Max no...\n",
       "1      3.0  I pre ordered the item on sept 21 and received...\n",
       "2      5.0  Decent packaging and shipping 👍 Upgraded from ...\n",
       "3      1.0   11 Pro Max 256 GB phone hanged last 12 hours ...\n",
       "4      1.0  I will rate one start for this product. My exp..."
      ]
     },
     "execution_count": 69,
     "metadata": {},
     "output_type": "execute_result"
    }
   ],
   "source": [
    "final_df.head()"
   ]
  },
  {
   "cell_type": "code",
   "execution_count": null,
   "metadata": {},
   "outputs": [],
   "source": []
  }
 ],
 "metadata": {
  "kernelspec": {
   "display_name": "Python 3",
   "language": "python",
   "name": "python3"
  },
  "language_info": {
   "codemirror_mode": {
    "name": "ipython",
    "version": 3
   },
   "file_extension": ".py",
   "mimetype": "text/x-python",
   "name": "python",
   "nbconvert_exporter": "python",
   "pygments_lexer": "ipython3",
   "version": "3.7.3"
  }
 },
 "nbformat": 4,
 "nbformat_minor": 2
}
